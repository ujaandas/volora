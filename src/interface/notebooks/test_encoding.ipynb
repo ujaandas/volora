{
 "cells": [
  {
   "cell_type": "code",
   "execution_count": 4,
   "metadata": {},
   "outputs": [],
   "source": [
    "import sox\n",
    "import struct\n",
    "import numpy as np\n",
    "import pycodec2\n",
    "import pyaudio"
   ]
  },
  {
   "cell_type": "code",
   "execution_count": 5,
   "metadata": {},
   "outputs": [],
   "source": [
    "c2 = pycodec2.Codec2(1200)\n",
    "INT16_BYTE_SIZE = 2\n",
    "PACKET_SIZE = c2.samples_per_frame() * INT16_BYTE_SIZE\n",
    "STRUCT_FORMAT = '{}h'.format(c2.samples_per_frame())"
   ]
  },
  {
   "cell_type": "code",
   "execution_count": 6,
   "metadata": {},
   "outputs": [],
   "source": [
    "with open(\"input.raw\", \"rb\") as input, open(\"output.raw\", \"wb\") as output:\n",
    "        while True:\n",
    "            packet = input.read(PACKET_SIZE)\n",
    "            if len(packet) != PACKET_SIZE:\n",
    "                break\n",
    "            samples = np.array(struct.unpack(STRUCT_FORMAT, packet), dtype=np.int16)\n",
    "            encoded = c2.encode(samples)\n",
    "            decoded = c2.decode(encoded)\n",
    "            output.write(struct.pack(STRUCT_FORMAT, *decoded))"
   ]
  }
 ],
 "metadata": {
  "kernelspec": {
   "display_name": ".venv",
   "language": "python",
   "name": "python3"
  },
  "language_info": {
   "codemirror_mode": {
    "name": "ipython",
    "version": 3
   },
   "file_extension": ".py",
   "mimetype": "text/x-python",
   "name": "python",
   "nbconvert_exporter": "python",
   "pygments_lexer": "ipython3",
   "version": "3.11.12"
  }
 },
 "nbformat": 4,
 "nbformat_minor": 2
}
